{
 "cells": [
  {
   "cell_type": "code",
   "execution_count": 1,
   "metadata": {
    "collapsed": true
   },
   "outputs": [],
   "source": [
    "from pyspark import SparkContext\n",
    "import matplotlib.pyplot as plt\n",
    "import numpy as np"
   ]
  },
  {
   "cell_type": "markdown",
   "metadata": {},
   "source": [
    "# 简单的数据统计"
   ]
  },
  {
   "cell_type": "markdown",
   "metadata": {},
   "source": [
    "1. 统计用户数据的结果"
   ]
  },
  {
   "cell_type": "code",
   "execution_count": 2,
   "metadata": {
    "collapsed": false
   },
   "outputs": [
    {
     "name": "stdout",
     "output_type": "stream",
     "text": [
      "Users: 943  Ages: 61 Genders: 2 Occupations: 21 ZipCodes: 795\n"
     ]
    }
   ],
   "source": [
    "sc = SparkContext(\"local\", \"User Statics\")\n",
    "logFile = \"E:\\\\Sourcecode\\\\github\\\\MachineLearning\\\\PythonDataAnylize\\\\testdata\\\\ml-100k\\\\u.user\"  # Should be some file on your system\n",
    "user_data = sc.textFile(logFile).cache()\n",
    "user_fields=user_data.map(lambda line:line.split(\"|\"));\n",
    "user_fields.cache()\n",
    "num_users=user_fields.map(lambda fields:fields[0]).count()\n",
    "num_age=user_fields.map(lambda fields:fields[1]).distinct().count()\n",
    "num_gender=user_fields.map(lambda fields:fields[2]).distinct().count()\n",
    "num_occupation=user_fields.map(lambda fields:fields[3]).distinct().count()\n",
    "num_zipcode=user_fields.map(lambda fields:fields[4]).distinct().count()\n",
    "print \"Users: %d  Ages: %d Genders: %d Occupations: %d ZipCodes: %d\" % (num_users,num_age,num_gender,num_occupation,num_zipcode)"
   ]
  },
  {
   "cell_type": "markdown",
   "metadata": {},
   "source": [
    "2. 通过matplotlib 把年龄的分布情况展示出来"
   ]
  },
  {
   "cell_type": "code",
   "execution_count": 5,
   "metadata": {
    "collapsed": false
   },
   "outputs": [],
   "source": [
    "ages=user_fields.map(lambda x:int(x[1])).collect()\n",
    "plt.hist(ages,bins=20,normed=True)\n",
    "plt.show()\n",
    "fig=plt.gcf()\n",
    "fig.set_size_inches(16,10)\n"
   ]
  },
  {
   "cell_type": "markdown",
   "metadata": {},
   "source": [
    "3. 统计每个职业有多少人"
   ]
  },
  {
   "cell_type": "code",
   "execution_count": 6,
   "metadata": {
    "collapsed": false
   },
   "outputs": [
    {
     "name": "stdout",
     "output_type": "stream",
     "text": [
      "Map-reduce approach:\n",
      "{u'administrator': 79, u'retired': 14, u'lawyer': 12, u'healthcare': 16, u'marketing': 26, u'executive': 32, u'scientist': 31, u'student': 196, u'technician': 27, u'librarian': 51, u'programmer': 66, u'salesman': 12, u'homemaker': 7, u'engineer': 67, u'none': 9, u'doctor': 7, u'writer': 45, u'entertainment': 18, u'other': 105, u'educator': 95, u'artist': 28}\n"
     ]
    }
   ],
   "source": [
    "count_by_occupation2 = user_fields.map(lambda fields: fields[3]).countByValue()\n",
    "print \"Map-reduce approach:\"\n",
    "print dict(count_by_occupation2)"
   ]
  },
  {
   "cell_type": "markdown",
   "metadata": {},
   "source": [
    "# 数据清洗"
   ]
  },
  {
   "cell_type": "markdown",
   "metadata": {},
   "source": [
    "1. 滤掉或删除非规整或有值缺失的数据\n",
    "2. 填充非规整或缺失的数据\n",
    "3. 对异常值做鲁棒处理\n",
    "4. 对可能的异常值进行转换"
   ]
  },
  {
   "cell_type": "code",
   "execution_count": null,
   "metadata": {
    "collapsed": true
   },
   "outputs": [],
   "source": []
  }
 ],
 "metadata": {
  "kernelspec": {
   "display_name": "Python [Root]",
   "language": "python",
   "name": "Python [Root]"
  },
  "language_info": {
   "codemirror_mode": {
    "name": "ipython",
    "version": 2
   },
   "file_extension": ".py",
   "mimetype": "text/x-python",
   "name": "python",
   "nbconvert_exporter": "python",
   "pygments_lexer": "ipython2",
   "version": "2.7.12"
  }
 },
 "nbformat": 4,
 "nbformat_minor": 0
}
